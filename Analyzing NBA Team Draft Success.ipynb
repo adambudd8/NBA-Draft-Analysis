{
 "cells": [
  {
   "cell_type": "code",
   "execution_count": 163,
   "id": "75bb0321",
   "metadata": {},
   "outputs": [],
   "source": [
    "import numpy as np\n",
    "import pickle\n",
    "import matplotlib.pyplot as plt\n",
    "import csv\n",
    "import pandas as pd"
   ]
  },
  {
   "cell_type": "code",
   "execution_count": 164,
   "id": "ea037a60",
   "metadata": {
    "scrolled": true
   },
   "outputs": [],
   "source": [
    "pick = []\n",
    "team = []\n",
    "names = []\n",
    "year = []\n",
    "vorp = []\n",
    "winshares = []\n",
    "bpm = []\n",
    "\n",
    "with open('draft2012.csv') as file:\n",
    "    csv_reader = csv.reader(file)\n",
    "    num = 0\n",
    "    for line in csv_reader:\n",
    "        if num >= 1:\n",
    "            pick.append(line[1])\n",
    "            team.append(line[2])\n",
    "            names.append(line[3])\n",
    "            vorp.append(line[21])\n",
    "            winshares.append(line[18])\n",
    "            bpm.append(line[20])\n",
    "            year.append(2012)\n",
    "        num += 1\n",
    "\n",
    "with open('draft2013.csv') as file:\n",
    "    csv_reader = csv.reader(file)\n",
    "    num = 0\n",
    "    for line in csv_reader:\n",
    "        if num >= 1:\n",
    "            pick.append(line[1])\n",
    "            team.append(line[2])\n",
    "            names.append(line[3])\n",
    "            vorp.append(line[21])\n",
    "            winshares.append(line[18])\n",
    "            bpm.append(line[20])\n",
    "            year.append(2013)\n",
    "        num += 1\n",
    "\n",
    "with open('draft2014.csv') as file:\n",
    "    csv_reader = csv.reader(file)\n",
    "    num = 0\n",
    "    for line in csv_reader:\n",
    "        if num >= 1:\n",
    "            pick.append(line[1])\n",
    "            team.append(line[2])\n",
    "            names.append(line[3])\n",
    "            vorp.append(line[21])\n",
    "            winshares.append(line[18])\n",
    "            bpm.append(line[20])\n",
    "            year.append(2014)\n",
    "        num += 1\n",
    "\n",
    "with open('draft2015.csv') as file:\n",
    "    csv_reader = csv.reader(file)\n",
    "    num = 0\n",
    "    for line in csv_reader:\n",
    "        if num >= 1:\n",
    "            pick.append(line[1])\n",
    "            team.append(line[2])\n",
    "            names.append(line[3])\n",
    "            vorp.append(line[21])\n",
    "            winshares.append(line[18])\n",
    "            bpm.append(line[20])\n",
    "            year.append(2015)\n",
    "        num += 1\n",
    "\n",
    "with open('draft2016.csv') as file:\n",
    "    csv_reader = csv.reader(file)\n",
    "    num = 0\n",
    "    for line in csv_reader:\n",
    "        if num >= 1:\n",
    "            pick.append(line[1])\n",
    "            team.append(line[2])\n",
    "            names.append(line[3])\n",
    "            vorp.append(line[21])\n",
    "            winshares.append(line[18])\n",
    "            bpm.append(line[20])\n",
    "            year.append(2016)\n",
    "        num += 1\n",
    "\n",
    "with open('draft2017.csv') as file:\n",
    "    csv_reader = csv.reader(file)\n",
    "    num = 0\n",
    "    for line in csv_reader:\n",
    "        if num >= 1:\n",
    "            pick.append(line[1])\n",
    "            team.append(line[2])\n",
    "            names.append(line[3])\n",
    "            vorp.append(line[21])\n",
    "            winshares.append(line[18])\n",
    "            bpm.append(line[20])\n",
    "            year.append(2017)\n",
    "        num += 1\n",
    "\n",
    "with open('draft2018.csv') as file:\n",
    "    csv_reader = csv.reader(file)\n",
    "    num = 0\n",
    "    for line in csv_reader:\n",
    "        if num >= 1:\n",
    "            pick.append(line[1])\n",
    "            team.append(line[2])\n",
    "            names.append(line[3])\n",
    "            vorp.append(line[21])\n",
    "            winshares.append(line[18])\n",
    "            bpm.append(line[20])\n",
    "            year.append(2018)\n",
    "        num += 1\n",
    "\n",
    "with open('draft2019.csv') as file:\n",
    "    csv_reader = csv.reader(file)\n",
    "    num = 0\n",
    "    for line in csv_reader:\n",
    "        if num >= 1:\n",
    "            pick.append(line[1])\n",
    "            team.append(line[2])\n",
    "            names.append(line[3])\n",
    "            vorp.append(line[21])\n",
    "            winshares.append(line[18])\n",
    "            bpm.append(line[20])\n",
    "            year.append(2019)\n",
    "        num += 1                \n",
    "        \n",
    "with open('draft2020.csv') as file:\n",
    "    csv_reader = csv.reader(file)\n",
    "    num = 0\n",
    "    for line in csv_reader:\n",
    "        if num >= 1:\n",
    "            pick.append(line[1])\n",
    "            team.append(line[2])\n",
    "            names.append(line[3])\n",
    "            vorp.append(line[21])\n",
    "            winshares.append(line[18])\n",
    "            bpm.append(line[20])\n",
    "            year.append(2020)\n",
    "        num += 1\n",
    "\n",
    "with open('draft2021.csv') as file:\n",
    "    csv_reader = csv.reader(file)\n",
    "    num = 0\n",
    "    for line in csv_reader:\n",
    "        if num >= 1:\n",
    "            pick.append(line[1])\n",
    "            team.append(line[2])\n",
    "            names.append(line[3])\n",
    "            vorp.append(line[21])\n",
    "            winshares.append(line[18])\n",
    "            bpm.append(line[20])\n",
    "            year.append(2021)\n",
    "        num += 1  \n",
    "        "
   ]
  },
  {
   "cell_type": "code",
   "execution_count": 165,
   "id": "c5876d7b",
   "metadata": {},
   "outputs": [],
   "source": [
    "num = 0\n",
    "for x in vorp:\n",
    "    if (x == ''):\n",
    "        del vorp[num]\n",
    "        del names[num]\n",
    "        del team[num]\n",
    "        del pick[num]\n",
    "        del year[num]\n",
    "        del winshares[num]\n",
    "        del bpm[num]\n",
    "    num += 1\n",
    "\n",
    "num = 0\n",
    "for x in vorp:\n",
    "    if (x == ''):\n",
    "        del vorp[num]\n",
    "        del names[num]\n",
    "        del team[num]\n",
    "        del pick[num]\n",
    "        del year[num]\n",
    "        del winshares[num]\n",
    "        del bpm[num]\n",
    "    num += 1\n",
    "  \n",
    "num = 0\n",
    "for x in vorp:\n",
    "    if (x == ''):\n",
    "        del vorp[num]\n",
    "        del names[num]\n",
    "        del team[num]\n",
    "        del pick[num]\n",
    "        del year[num]\n",
    "        del winshares[num]\n",
    "        del bpm[num]\n",
    "    num += 1\n",
    "\n",
    "num = 0\n",
    "for x in vorp:\n",
    "    if (x == ''):\n",
    "        del vorp[num]\n",
    "        del names[num]\n",
    "        del team[num]\n",
    "        del pick[num]\n",
    "        del year[num]\n",
    "        del winshares[num]\n",
    "        del bpm[num]\n",
    "    num += 1\n",
    "  "
   ]
  },
  {
   "cell_type": "code",
   "execution_count": 166,
   "id": "168d7471",
   "metadata": {},
   "outputs": [],
   "source": [
    "num = 0\n",
    "for i in pick:\n",
    "    pick[num] = int(i)\n",
    "    num += 1\n",
    "\n",
    "num = 0\n",
    "for i in vorp:\n",
    "    vorp[num] = float(i)\n",
    "    num += 1\n",
    "    \n",
    "num = 0\n",
    "for i in winshares:\n",
    "    winshares[num] = float(i)\n",
    "    num += 1\n",
    "    \n",
    "num = 0\n",
    "for i in bpm:\n",
    "    bpm[num] = float(i)\n",
    "    num += 1\n",
    "\n",
    "    "
   ]
  },
  {
   "cell_type": "code",
   "execution_count": 168,
   "id": "be4e307f",
   "metadata": {},
   "outputs": [],
   "source": [
    "ratings = []\n",
    "raw_ratings = []\n",
    "\n",
    "\n",
    "for x in range (0, len(names)):\n",
    "    raw_rating = vorp[x] + 5\n",
    "    pick_rating = (raw_rating  * pick[x]/60)\n",
    "    ratings.append(pick_rating)\n",
    "    raw_ratings.append(raw_rating)\n"
   ]
  },
  {
   "cell_type": "code",
   "execution_count": 170,
   "id": "1c71a04e",
   "metadata": {},
   "outputs": [],
   "source": [
    "unique_teams2 = []\n",
    "for x in team:\n",
    "    if x not in unique_teams2:\n",
    "        unique_teams2.append(x)"
   ]
  },
  {
   "cell_type": "code",
   "execution_count": 171,
   "id": "81c194bd",
   "metadata": {},
   "outputs": [],
   "source": [
    "for i in range(len(unique_teams2)):\n",
    "    if unique_teams2[i] == 'NOH':\n",
    "        unique_teams2[i] = 'NOP'  \n",
    "    if unique_teams2[i] == 'CHA':\n",
    "        unique_teams2[i] = 'CHO' \n",
    "    if unique_teams2[i] == 'CHH':\n",
    "        unique_teams2[i] = 'CHO' \n",
    "    \n",
    "for i in range(len(team)):\n",
    "    if team[i] == 'NOH':\n",
    "        team[i] = 'NOP'\n",
    "    if team[i] == 'CHA':\n",
    "        team[i] = 'CHO'\n",
    "    if team[i] == 'CHH':\n",
    "        team[i] = 'CHO'\n",
    "    \n",
    "unique_teams = []    \n",
    "for i in unique_teams2:\n",
    "    if i not in unique_teams:\n",
    "        unique_teams.append(i)"
   ]
  },
  {
   "cell_type": "code",
   "execution_count": 172,
   "id": "117e48e2",
   "metadata": {},
   "outputs": [],
   "source": [
    "averages = []\n",
    "for x in unique_teams:\n",
    "    num = 0\n",
    "    total = 0\n",
    "    count = 0\n",
    "    average = 0\n",
    "    for y in ratings:\n",
    "        if x == team[num]:\n",
    "            total += ratings[num]\n",
    "            count += 1\n",
    "        num += 1\n",
    "    average = total/count\n",
    "    averages.append(average)\n",
    "    \n",
    "        "
   ]
  },
  {
   "cell_type": "code",
   "execution_count": 174,
   "id": "889f1a04",
   "metadata": {},
   "outputs": [],
   "source": [
    "tuples = []\n",
    "for i in range(len(names)):\n",
    "    thistuple = (names[i], ratings[i], team[i], pick[i], year[i])\n",
    "    tuples.append(thistuple)"
   ]
  },
  {
   "cell_type": "code",
   "execution_count": 175,
   "id": "958e7d5d",
   "metadata": {},
   "outputs": [],
   "source": [
    "rawtuples = []\n",
    "for i in range(len(names)):\n",
    "    thistuple = (names[i], raw_ratings[i], team[i], pick[i], year[i])\n",
    "    rawtuples.append(thistuple)\n"
   ]
  },
  {
   "cell_type": "code",
   "execution_count": 177,
   "id": "2ddddd8e",
   "metadata": {},
   "outputs": [],
   "source": [
    "team_tuples = []\n",
    "for i in range(len(unique_teams)):\n",
    "    thistuple = (unique_teams[i], averages[i])\n",
    "    team_tuples.append(thistuple)"
   ]
  },
  {
   "cell_type": "code",
   "execution_count": 178,
   "id": "bb8406d6",
   "metadata": {},
   "outputs": [],
   "source": [
    "sorted_by_average = sorted(team_tuples, key=lambda tup: tup[1])"
   ]
  },
  {
   "cell_type": "code",
   "execution_count": 179,
   "id": "a75ebfe1",
   "metadata": {},
   "outputs": [],
   "source": [
    "sorted_by_rating = sorted(tuples, key=lambda tup: tup[1])"
   ]
  },
  {
   "cell_type": "code",
   "execution_count": 180,
   "id": "70e359a4",
   "metadata": {},
   "outputs": [],
   "source": [
    "raw_sorted_by_rating = sorted(rawtuples, key=lambda tup: tup[1])"
   ]
  },
  {
   "cell_type": "code",
   "execution_count": 181,
   "id": "db036c50",
   "metadata": {},
   "outputs": [
    {
     "data": {
      "text/plain": [
       "Text(0.5, 1.0, 'NBA Teams Which Have Drafted Worst Since 2012')"
      ]
     },
     "execution_count": 181,
     "metadata": {},
     "output_type": "execute_result"
    },
    {
     "data": {
      "image/png": "[encoded data removed]",
      "text/plain": [
       "<Figure size 432x288 with 1 Axes>"
      ]
     },
     "metadata": {
      "needs_background": "light"
     },
     "output_type": "display_data"
    }
   ],
   "source": [
    "num = 0\n",
    "worst_teams = []\n",
    "worst_ratings = []\n",
    "for value in sorted_by_average:\n",
    "    if num <=9:\n",
    "        worst_teams.append(value[0])\n",
    "        worst_ratings.append(value[1])\n",
    "    num += 1\n",
    "\n",
    "plt.bar(worst_teams, worst_ratings, color = ['orange', 'purple', 'firebrick', 'blue', 'darkblue', 'darkblue', 'red', 'yellow', 'red', 'blue'])\n",
    "plt.xlabel('Team')\n",
    "plt.ylabel('Rating')\n",
    "plt.title('NBA Teams Which Have Drafted Worst Since 2012')"
   ]
  },
  {
   "cell_type": "code",
   "execution_count": 182,
   "id": "e5dd0c19",
   "metadata": {},
   "outputs": [
    {
     "data": {
      "text/plain": [
       "Text(0.5, 1.0, 'NBA Teams Which Have Drafted Best Since 2012')"
      ]
     },
     "execution_count": 182,
     "metadata": {},
     "output_type": "execute_result"
    },
    {
     "data": {
      "image/png": "[encoded data removed]",
      "text/plain": [
       "<Figure size 432x288 with 1 Axes>"
      ]
     },
     "metadata": {
      "needs_background": "light"
     },
     "output_type": "display_data"
    }
   ],
   "source": [
    "num = 0\n",
    "best_teams = []\n",
    "best_ratings = []\n",
    "for value in reversed(sorted_by_average):\n",
    "    if num <=9:\n",
    "        best_teams.append(value[0])\n",
    "        best_ratings.append(value[1])\n",
    "    num += 1\n",
    "\n",
    "plt.bar(best_teams, best_ratings, color = ['deepskyblue', 'gray', 'yellow', 'black', 'red', 'red', 'blue', 'darkgreen', 'royalblue', 'yellow'])\n",
    "plt.xlabel('Team')\n",
    "plt.ylabel('Rating')\n",
    "plt.title('NBA Teams Which Have Drafted Best Since 2012')"
   ]
  },
  {
   "cell_type": "code",
   "execution_count": 183,
   "id": "de8c1c62",
   "metadata": {},
   "outputs": [
    {
     "data": {
      "text/plain": [
       "([0, 1, 2, 3, 4, 5, 6, 7, 8, 9],\n",
       " [Text(0, 0, ''),\n",
       "  Text(0, 0, ''),\n",
       "  Text(0, 0, ''),\n",
       "  Text(0, 0, ''),\n",
       "  Text(0, 0, ''),\n",
       "  Text(0, 0, ''),\n",
       "  Text(0, 0, ''),\n",
       "  Text(0, 0, ''),\n",
       "  Text(0, 0, ''),\n",
       "  Text(0, 0, '')])"
      ]
     },
     "execution_count": 183,
     "metadata": {},
     "output_type": "execute_result"
    },
    {
     "data": {
      "image/png": "[encoded data removed]",
      "text/plain": [
       "<Figure size 432x288 with 1 Axes>"
      ]
     },
     "metadata": {
      "needs_background": "light"
     },
     "output_type": "display_data"
    }
   ],
   "source": [
    "num = 0\n",
    "best_picks = []\n",
    "best_pickratings = []\n",
    "for value in reversed(sorted_by_rating):\n",
    "    if num <=9:\n",
    "        best_picks.append(value[0])\n",
    "        best_pickratings.append(value[1])\n",
    "    num += 1\n",
    "\n",
    "plt.bar(best_picks, best_pickratings, color = ['deepskyblue', 'royalblue', 'deepskyblue', 'blue', 'darkgreen', 'royalblue', 'red', 'firebrick', 'red', 'blue'])\n",
    "plt.xlabel('Player')\n",
    "plt.ylabel('Rating')\n",
    "plt.title('Best Draft Picks Since 2012')\n",
    "plt.xticks(rotation=90) "
   ]
  },
  {
   "cell_type": "code",
   "execution_count": 184,
   "id": "8e59ebfe",
   "metadata": {},
   "outputs": [
    {
     "data": {
      "text/plain": [
       "([0, 1, 2, 3, 4, 5, 6, 7, 8, 9],\n",
       " [Text(0, 0, ''),\n",
       "  Text(0, 0, ''),\n",
       "  Text(0, 0, ''),\n",
       "  Text(0, 0, ''),\n",
       "  Text(0, 0, ''),\n",
       "  Text(0, 0, ''),\n",
       "  Text(0, 0, ''),\n",
       "  Text(0, 0, ''),\n",
       "  Text(0, 0, ''),\n",
       "  Text(0, 0, '')])"
      ]
     },
     "execution_count": 184,
     "metadata": {},
     "output_type": "execute_result"
    },
    {
     "data": {
      "image/png": "[encoded data removed]",
      "text/plain": [
       "<Figure size 432x288 with 1 Axes>"
      ]
     },
     "metadata": {
      "needs_background": "light"
     },
     "output_type": "display_data"
    }
   ],
   "source": [
    "num = 0\n",
    "worst_picks = []\n",
    "worst_pickratings = []\n",
    "for value in sorted_by_rating:\n",
    "    if num <=9:\n",
    "        worst_picks.append(value[0])\n",
    "        worst_pickratings.append(value[1])\n",
    "    num += 1\n",
    "\n",
    "plt.bar(worst_picks, worst_pickratings, color = ['firebrick', 'darkblue', 'blue', 'blue', 'darkblue', 'orange', 'firebrick', 'royalblue', 'red', 'purple'])\n",
    "plt.xlabel('Player')\n",
    "plt.ylabel('Rating')\n",
    "plt.title('Worst Draft Picks Since 2012')\n",
    "plt.xticks(rotation=90) "
   ]
  },
  {
   "cell_type": "code",
   "execution_count": null,
   "id": "01b9ad98",
   "metadata": {},
   "outputs": [],
   "source": []
  }
 ],
 "metadata": {
  "kernelspec": {
   "display_name": "Python 3 (ipykernel)",
   "language": "python",
   "name": "python3"
  },
  "language_info": {
   "codemirror_mode": {
    "name": "ipython",
    "version": 3
   },
   "file_extension": ".py",
   "mimetype": "text/x-python",
   "name": "python",
   "nbconvert_exporter": "python",
   "pygments_lexer": "ipython3",
   "version": "3.9.5"
  }
 },
 "nbformat": 4,
 "nbformat_minor": 5
}
